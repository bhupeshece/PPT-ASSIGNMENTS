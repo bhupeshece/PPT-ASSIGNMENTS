{
 "cells": [
  {
   "cell_type": "code",
   "execution_count": 11,
   "id": "b9bce2e2",
   "metadata": {},
   "outputs": [
    {
     "name": "stdout",
     "output_type": "stream",
     "text": [
      "5 10 30 20 35 "
     ]
    }
   ],
   "source": [
    "#q3\n",
    "class Node:\n",
    "    def __init__(self, val):\n",
    "        self.right = None\n",
    "        self.data = val\n",
    "        self.left = None\n",
    "prev = None\n",
    "  \n",
    "def BinaryTree2DoubleLinkedList(root):\n",
    "      \n",
    "    # Base case\n",
    "    if root is None:\n",
    "        return root\n",
    "              \n",
    "    head = BinaryTree2DoubleLinkedList(root.left);\n",
    "\n",
    "    global prev\n",
    " \n",
    "    if prev is None : \n",
    "        head = root\n",
    "          \n",
    "    else:\n",
    "        root.left = prev\n",
    "        prev.right = root\n",
    "      \n",
    "    prev = root; \n",
    "      \n",
    "    BinaryTree2DoubleLinkedList(root.right);\n",
    "      \n",
    "    return head\n",
    "  \n",
    "def print_dll(head):\n",
    " \n",
    "    while head is not None:\n",
    "        print(head.data, end=\" \")\n",
    "        head = head.right\n",
    "  \n",
    "if __name__ == '__main__':\n",
    "    root = Node(20)\n",
    "    root.left = Node(10)\n",
    "    root.right = Node(35)\n",
    "    root.left.left = Node(5)\n",
    "    root.left.right = Node(30)\n",
    "      \n",
    "    head = BinaryTree2DoubleLinkedList(root)\n",
    "      \n",
    "    # Print the converted list\n",
    "    print_dll(head)"
   ]
  },
  {
   "cell_type": "code",
   "execution_count": 18,
   "id": "0b767934",
   "metadata": {},
   "outputs": [
    {
     "name": "stdout",
     "output_type": "stream",
     "text": [
      "1 → -1\n",
      "2 → 3\n",
      "3 → -1\n",
      "4 → 5\n",
      "5 → 6\n",
      "6 → 7\n",
      "7 → -1\n"
     ]
    }
   ],
   "source": [
    "#q4\n",
    "class Node:\n",
    "    def __init__(self, value):\n",
    "        self.value = value\n",
    "        self.left = None\n",
    "        self.right = None\n",
    "        self.next = None\n",
    "\n",
    "\n",
    "def connect_nodes_at_same_level(root):\n",
    "    if not root:\n",
    "        return\n",
    "    queue = [root]\n",
    "\n",
    "    while queue:\n",
    "        level_size = len(queue)\n",
    "\n",
    "        for i in range(level_size):\n",
    "            current_node = queue.pop(0)\n",
    "\n",
    "            if i < level_size - 1:\n",
    "                current_node.next = queue[0]\n",
    "\n",
    "            if current_node.left:\n",
    "                queue.append(current_node.left)\n",
    "            if current_node.right:\n",
    "                queue.append(current_node.right)\n",
    "\n",
    "root = Node(1)\n",
    "root.left = Node(2)\n",
    "root.right = Node(3)\n",
    "root.left.left = Node(4)\n",
    "root.left.right = Node(5)\n",
    "root.right.left = Node(6)\n",
    "root.right.right = Node(7)\n",
    "\n",
    "# Connect nodes at the same level\n",
    "connect_nodes_at_same_level(root)\n",
    "\n",
    "current = root\n",
    "while current:\n",
    "    node = current\n",
    "    while node:\n",
    "        print(node.value, '→', node.next.value if node.next else -1)\n",
    "        node = node.next\n",
    "    current = current.left\n",
    "\n"
   ]
  },
  {
   "cell_type": "code",
   "execution_count": null,
   "id": "c1f27800",
   "metadata": {},
   "outputs": [],
   "source": []
  }
 ],
 "metadata": {
  "kernelspec": {
   "display_name": "Python 3 (ipykernel)",
   "language": "python",
   "name": "python3"
  },
  "language_info": {
   "codemirror_mode": {
    "name": "ipython",
    "version": 3
   },
   "file_extension": ".py",
   "mimetype": "text/x-python",
   "name": "python",
   "nbconvert_exporter": "python",
   "pygments_lexer": "ipython3",
   "version": "3.10.9"
  }
 },
 "nbformat": 4,
 "nbformat_minor": 5
}
