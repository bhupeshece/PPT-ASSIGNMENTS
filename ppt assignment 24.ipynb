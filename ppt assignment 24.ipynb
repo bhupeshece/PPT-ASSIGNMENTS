{
 "cells": [
  {
   "cell_type": "code",
   "execution_count": 22,
   "id": "486164b7",
   "metadata": {},
   "outputs": [
    {
     "name": "stdout",
     "output_type": "stream",
     "text": [
      "3\n",
      "58\n"
     ]
    }
   ],
   "source": [
    "#q1\n",
    "def romanToInt(s: str) -> int:\n",
    "        conversion = {\n",
    "            'I':1,\n",
    "            'V':5,\n",
    "            'X':10,\n",
    "            'L':50,\n",
    "            'C':100,\n",
    "            'D':500,\n",
    "            'M':1000\n",
    "        }\n",
    "        s = s.replace('IV', 'IIII').replace('IX', 'VIIII').replace('XL','XXXX').replace('XC', 'LXXXX').replace('CD','CCCC').replace('CM','DCCCC')\n",
    "        sum=0\n",
    "        for char in s:\n",
    "            sum += conversion.get(char)\n",
    "            \n",
    "        return(sum)\n",
    "print(romanToInt(\"III\"))\n",
    "print(romanToInt(\"LVIII\"))"
   ]
  },
  {
   "cell_type": "code",
   "execution_count": 23,
   "id": "de926d21",
   "metadata": {},
   "outputs": [
    {
     "name": "stdout",
     "output_type": "stream",
     "text": [
      "3\n",
      "1\n",
      "3\n"
     ]
    }
   ],
   "source": [
    "#q2\n",
    "def lengthOfLongestSubstring(s):\n",
    "    n = len(s)\n",
    "    max_length = 0\n",
    "    unique_chars = set()\n",
    "    start = 0\n",
    "    end = 0\n",
    "    \n",
    "    while start < n and end < n:\n",
    "        if s[end] not in unique_chars:\n",
    "            unique_chars.add(s[end])\n",
    "            end += 1\n",
    "            max_length = max(max_length, end - start)\n",
    "        else:\n",
    "            unique_chars.remove(s[start])\n",
    "            start += 1\n",
    "    \n",
    "    return max_length\n",
    "print(lengthOfLongestSubstring(\"abcabcbb\"))  \n",
    "print(lengthOfLongestSubstring(\"bbbbb\"))     \n",
    "print(lengthOfLongestSubstring(\"pwwkew\"))    \n"
   ]
  },
  {
   "cell_type": "code",
   "execution_count": 30,
   "id": "7205ee94",
   "metadata": {},
   "outputs": [
    {
     "name": "stdout",
     "output_type": "stream",
     "text": [
      "3\n",
      "2\n"
     ]
    }
   ],
   "source": [
    "#q3\n",
    "def majorityElement(nums):\n",
    "    count = 0\n",
    "    candidate = None\n",
    "    \n",
    "    for num in nums:\n",
    "        if count == 0:\n",
    "            candidate = num\n",
    "        if num == candidate:\n",
    "            count += 1\n",
    "        else:\n",
    "            count -= 1\n",
    "    \n",
    "    return candidate\n",
    "\n",
    "print(majorityElement([3, 2, 3])) \n",
    "print(majorityElement([2, 2, 1, 1, 1, 2, 2]))"
   ]
  },
  {
   "cell_type": "code",
   "execution_count": 34,
   "id": "dff79cf4",
   "metadata": {},
   "outputs": [
    {
     "name": "stdout",
     "output_type": "stream",
     "text": [
      "12\n"
     ]
    },
    {
     "ename": "NameError",
     "evalue": "name 'nthUglyNumberr' is not defined",
     "output_type": "error",
     "traceback": [
      "\u001b[1;31m---------------------------------------------------------------------------\u001b[0m",
      "\u001b[1;31mNameError\u001b[0m                                 Traceback (most recent call last)",
      "Cell \u001b[1;32mIn[34], line 19\u001b[0m\n\u001b[0;32m     16\u001b[0m     \u001b[38;5;28;01mreturn\u001b[39;00m ugly[\u001b[38;5;241m-\u001b[39m\u001b[38;5;241m1\u001b[39m]\n\u001b[0;32m     18\u001b[0m \u001b[38;5;28mprint\u001b[39m(nthUglyNumber(\u001b[38;5;241m10\u001b[39m))\n\u001b[1;32m---> 19\u001b[0m \u001b[38;5;28mprint\u001b[39m(\u001b[43mnthUglyNumberr\u001b[49m(\u001b[38;5;241m1\u001b[39m)) \n",
      "\u001b[1;31mNameError\u001b[0m: name 'nthUglyNumberr' is not defined"
     ]
    }
   ],
   "source": [
    "#q5\n",
    "def nthUglyNumber(n):\n",
    "    ugly = [1]\n",
    "    p2 = p3 = p5 = 0\n",
    "    \n",
    "    for i in range(1, n):\n",
    "        ugly.append(min(ugly[p2] * 2, ugly[p3] * 3, ugly[p5] * 5))\n",
    "        \n",
    "        if ugly[-1] == ugly[p2] * 2:\n",
    "            p2 += 1\n",
    "        if ugly[-1] == ugly[p3] * 3:\n",
    "            p3 += 1\n",
    "        if ugly[-1] == ugly[p5] * 5:\n",
    "            p5 += 1\n",
    "    \n",
    "    return ugly[-1]\n",
    "\n",
    "print(nthUglyNumber(10))\n",
    "print(nthUglyNumberr(1)) "
   ]
  },
  {
   "cell_type": "code",
   "execution_count": 41,
   "id": "98f5c70c",
   "metadata": {},
   "outputs": [
    {
     "name": "stdout",
     "output_type": "stream",
     "text": [
      "None\n"
     ]
    }
   ],
   "source": [
    "\n",
    "#q7\n",
    "from collections import deque\n",
    "\n",
    "def maxSlidingWindow(nums, k):\n",
    "    result = []\n",
    "    window = deque()\n",
    "    \n",
    "    for i in range(len(nums)):\n",
    "       \n",
    "        if window and window[0] <= i - k:\n",
    "            window.popleft()\n",
    "        \n",
    "      \n",
    "        while window and nums[window[-1]] < nums[i]:\n",
    "            window.pop()\n",
    "        \n",
    "\n",
    "\n",
    "print(maxSlidingWindow([1, 3, -1, -3, 5, 3, 6, 7], 3))\n",
    "#\n"
   ]
  },
  {
   "cell_type": "code",
   "execution_count": 53,
   "id": "90cc4837",
   "metadata": {},
   "outputs": [
    {
     "ename": "TypeError",
     "evalue": "'int' object is not callable",
     "output_type": "error",
     "traceback": [
      "\u001b[1;31m---------------------------------------------------------------------------\u001b[0m",
      "\u001b[1;31mTypeError\u001b[0m                                 Traceback (most recent call last)",
      "Cell \u001b[1;32mIn[53], line 42\u001b[0m\n\u001b[0;32m     39\u001b[0m             \u001b[38;5;28mprint\u001b[39m(findClosestElements([\u001b[38;5;241m1\u001b[39m, \u001b[38;5;241m2\u001b[39m, \u001b[38;5;241m3\u001b[39m, \u001b[38;5;241m4\u001b[39m, \u001b[38;5;241m5\u001b[39m], \u001b[38;5;241m4\u001b[39m, \u001b[38;5;241m3\u001b[39m))\n\u001b[0;32m     40\u001b[0m \u001b[38;5;66;03m# Output: [1, 2, 3, 4]\u001b[39;00m\n\u001b[1;32m---> 42\u001b[0m \u001b[38;5;28mprint\u001b[39m(\u001b[43mfindClosestElements\u001b[49m\u001b[43m(\u001b[49m\u001b[43m[\u001b[49m\u001b[38;5;241;43m1\u001b[39;49m\u001b[43m,\u001b[49m\u001b[43m \u001b[49m\u001b[38;5;241;43m2\u001b[39;49m\u001b[43m,\u001b[49m\u001b[43m \u001b[49m\u001b[38;5;241;43m3\u001b[39;49m\u001b[43m,\u001b[49m\u001b[43m \u001b[49m\u001b[38;5;241;43m4\u001b[39;49m\u001b[43m,\u001b[49m\u001b[43m \u001b[49m\u001b[38;5;241;43m5\u001b[39;49m\u001b[43m]\u001b[49m\u001b[43m,\u001b[49m\u001b[43m \u001b[49m\u001b[38;5;241;43m4\u001b[39;49m\u001b[43m,\u001b[49m\u001b[43m \u001b[49m\u001b[38;5;241;43m-\u001b[39;49m\u001b[38;5;241;43m1\u001b[39;49m\u001b[43m)\u001b[49m)\n\u001b[0;32m     43\u001b[0m \u001b[38;5;66;03m# Output: [1, 2, 3, 4]\u001b[39;00m\n",
      "Cell \u001b[1;32mIn[50], line 4\u001b[0m, in \u001b[0;36mfindClosestElements\u001b[1;34m(arr, k, x)\u001b[0m\n\u001b[0;32m      2\u001b[0m \u001b[38;5;28;01mdef\u001b[39;00m \u001b[38;5;21mfindClosestElements\u001b[39m(arr, k, x):\n\u001b[0;32m      3\u001b[0m     left \u001b[38;5;241m=\u001b[39m \u001b[38;5;241m0\u001b[39m\n\u001b[1;32m----> 4\u001b[0m     right \u001b[38;5;241m=\u001b[39m \u001b[38;5;28;43mlen\u001b[39;49m\u001b[43m(\u001b[49m\u001b[43marr\u001b[49m\u001b[43m)\u001b[49m \u001b[38;5;241m-\u001b[39m \u001b[38;5;241m1\u001b[39m\n\u001b[0;32m      6\u001b[0m     \u001b[38;5;28;01mwhile\u001b[39;00m right \u001b[38;5;241m-\u001b[39m left \u001b[38;5;241m>\u001b[39m\u001b[38;5;241m=\u001b[39m k:\n\u001b[0;32m      7\u001b[0m         \u001b[38;5;28;01mif\u001b[39;00m \u001b[38;5;28mabs\u001b[39m(arr[left] \u001b[38;5;241m-\u001b[39m x) \u001b[38;5;241m>\u001b[39m\u001b[38;5;241m=\u001b[39m \u001b[38;5;28mabs\u001b[39m(arr[right] \u001b[38;5;241m-\u001b[39m x):\n",
      "\u001b[1;31mTypeError\u001b[0m: 'int' object is not callable"
     ]
    }
   ],
   "source": [
    "\n"
   ]
  },
  {
   "cell_type": "code",
   "execution_count": null,
   "id": "c7df0d67",
   "metadata": {},
   "outputs": [],
   "source": []
  },
  {
   "cell_type": "code",
   "execution_count": null,
   "id": "c40d9189",
   "metadata": {},
   "outputs": [],
   "source": []
  }
 ],
 "metadata": {
  "kernelspec": {
   "display_name": "Python 3 (ipykernel)",
   "language": "python",
   "name": "python3"
  },
  "language_info": {
   "codemirror_mode": {
    "name": "ipython",
    "version": 3
   },
   "file_extension": ".py",
   "mimetype": "text/x-python",
   "name": "python",
   "nbconvert_exporter": "python",
   "pygments_lexer": "ipython3",
   "version": "3.10.9"
  }
 },
 "nbformat": 4,
 "nbformat_minor": 5
}
