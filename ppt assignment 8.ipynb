{
 "cells": [
  {
   "cell_type": "code",
   "execution_count": 44,
   "id": "338517a1",
   "metadata": {},
   "outputs": [
    {
     "name": "stdout",
     "output_type": "stream",
     "text": [
      "Lowest ASCII sum of del character: 231\n"
     ]
    }
   ],
   "source": [
    "#q1\n",
    "def minimum_ascii_delete_sum(s1, s2):\n",
    "    m, n = len(s1), len(s2)\n",
    "    dp = [[0] * (n + 1) for _ in range(m + 1)]\n",
    "\n",
    "    for i in range(1, m + 1):\n",
    "        dp[i][0] = dp[i - 1][0] + ord(s1[i - 1])\n",
    "    for j in range(1, n + 1):\n",
    "        dp[0][j] = dp[0][j - 1] + ord(s2[j - 1])\n",
    "    for i in range(1, m + 1):\n",
    "        for j in range(1, n + 1):\n",
    "            if s1[i - 1] == s2[j - 1]:\n",
    "                dp[i][j] = dp[i - 1][j - 1]\n",
    "            else:\n",
    "                dp[i][j] = min(dp[i - 1][j] + ord(s1[i - 1]), dp[i][j - 1] + ord(s2[j - 1]))\n",
    "\n",
    "    return dp[m][n]\n",
    "s1 = \"sea\"\n",
    "s2 = \"eat\"\n",
    "result = minimum_ascii_delete_sum(s1, s2)\n",
    "print(\"Lowest ASCII sum of del character:\", result)\n"
   ]
  },
  {
   "cell_type": "code",
   "execution_count": 45,
   "id": "08cb852b",
   "metadata": {},
   "outputs": [
    {
     "name": "stdout",
     "output_type": "stream",
     "text": [
      "True\n"
     ]
    }
   ],
   "source": [
    "#q2\n",
    "def isStringValid(s):\n",
    "    stack = []\n",
    "    star_stack = []\n",
    "\n",
    "    for char in s:\n",
    "        if char == '(':\n",
    "            stack.append(char)\n",
    "        elif char == '*':\n",
    "            star_stack.append(char)\n",
    "        elif char == ')':\n",
    "            if stack:\n",
    "                stack.pop()\n",
    "            elif star_stack:\n",
    "                star_stack.pop()\n",
    "            else:\n",
    "                return False\n",
    "\n",
    "    while stack and star_stack:\n",
    "        if stack[-1] > star_stack[-1]:\n",
    "            return False\n",
    "        stack.pop()\n",
    "        star_stack.pop()\n",
    "\n",
    "    return len(stack) == 0\n",
    "s = \"( )\"\n",
    "result = isStringValid(s)\n",
    "print(result)\n"
   ]
  },
  {
   "cell_type": "code",
   "execution_count": 46,
   "id": "6b9e9165",
   "metadata": {},
   "outputs": [
    {
     "name": "stdout",
     "output_type": "stream",
     "text": [
      "Min no of steps to del 2\n"
     ]
    }
   ],
   "source": [
    "#q3\n",
    "def minStepsToDelete(word1, word2):\n",
    "    len1 = len(word1)\n",
    "    len2 = len(word2)\n",
    "\n",
    "    dp = [[0] * (len2 + 1) for _ in range(len1 + 1)]\n",
    "    for i in range(len1 + 1):\n",
    "        for j in range(len2 + 1):\n",
    "            if i == 0 or j == 0:\n",
    "                dp[i][j] = i + j\n",
    "            elif word1[i - 1] == word2[j - 1]:\n",
    "                dp[i][j] = dp[i - 1][j - 1]\n",
    "            else:\n",
    "                dp[i][j] = 1 + min(dp[i - 1][j], dp[i][j - 1])\n",
    "\n",
    "    return dp[len1][len2]\n",
    "word1 = \"sea\"\n",
    "word2 = \"eat\"\n",
    "result = minStepsToDelete(word1, word2)\n",
    "print(\"Min no of steps to del\", result)\n"
   ]
  },
  {
   "cell_type": "code",
   "execution_count": 47,
   "id": "d0931582",
   "metadata": {},
   "outputs": [
    {
     "name": "stdout",
     "output_type": "stream",
     "text": [
      "4 2 6 3 1 5 "
     ]
    }
   ],
   "source": [
    "#q4\n",
    "class newNode:\n",
    "    def __init__(self, data):\n",
    "        self.data = data\n",
    "        self.left = self.right = None\n",
    "def preOrder(node):\n",
    "    if (node == None):\n",
    "        return\n",
    "    print(node.data, end=' ')\n",
    "    preOrder(node.left)\n",
    "    preOrder(node.right)\n",
    "def findIndex(Str, si, ei):\n",
    "    if (si > ei):\n",
    "        return -1\n",
    "    s = []\n",
    "    for i in range(si, ei + 1):\n",
    " \n",
    "        if (Str[i] == '('):\n",
    "            s.append(Str[i])\n",
    "        elif (Str[i] == ')'):\n",
    "            if (s[-1] == '('):\n",
    "                s.pop(-1)\n",
    " \n",
    "                if len(s) == 0:\n",
    "                    return i\n",
    "    return -1\n",
    " \n",
    "def treeFromString(Str, si, ei):\n",
    " \n",
    "    # Base case\n",
    "    if (si > ei):\n",
    "        return None\n",
    " \n",
    "    root = newNode(ord(Str[si]) - ord('0'))\n",
    "    index = -1\n",
    " \n",
    "    if (si + 1 <= ei and Str[si + 1] == '('):\n",
    "        index = findIndex(Str, si + 1, ei)\n",
    "    if (index != -1):\n",
    " \n",
    "        root.left = treeFromString(Str, si + 2,\n",
    "                                   index - 1)\n",
    " \n",
    "        root.right = treeFromString(Str, index + 2,\n",
    "                                    ei - 1)\n",
    "    return root\n",
    " \n",
    "if __name__ == '__main__':\n",
    "    Str = \"4(2(6)(3))(1(5))\"\n",
    "    root = treeFromString(Str, 0, len(Str) - 1)\n",
    "    preOrder(root)\n",
    " "
   ]
  },
  {
   "cell_type": "code",
   "execution_count": 48,
   "id": "53b7e684",
   "metadata": {},
   "outputs": [
    {
     "name": "stdout",
     "output_type": "stream",
     "text": [
      "Compressarray: ['a', '2', 'b', '2', 'c', '3']\n"
     ]
    }
   ],
   "source": [
    "#q5\n",
    "def compressArray(chars):\n",
    "    n = len(chars)\n",
    "    if n <= 1:\n",
    "        return n\n",
    "\n",
    "    write_index = 0\n",
    "    current_char = chars[0]\n",
    "    count = 1\n",
    "\n",
    "    for i in range(1, n):\n",
    "        if chars[i] == current_char:\n",
    "            count += 1\n",
    "        else:\n",
    "            chars[write_index] = current_char\n",
    "            write_index += 1\n",
    "            if count > 1:\n",
    "                count_str = str(count)\n",
    "                for digit in count_str:\n",
    "                    chars[write_index] = digit\n",
    "                    write_index += 1\n",
    "            current_char = chars[i]\n",
    "            count = 1\n",
    "\n",
    "    chars[write_index] = current_char\n",
    "    write_index += 1\n",
    "    if count > 1:\n",
    "        count_str = str(count)\n",
    "        for digit in count_str:\n",
    "            chars[write_index] = digit\n",
    "            write_index += 1\n",
    "    return write_index\n",
    "chars = [\"a\", \"a\", \"b\", \"b\", \"c\", \"c\", \"c\"]\n",
    "new_length = compressArray(chars)\n",
    "compressed_chars = chars[:new_length]\n",
    "print(\"Compressarray:\", compressed_chars)\n",
    "\n",
    "\n"
   ]
  },
  {
   "cell_type": "code",
   "execution_count": 49,
   "id": "7786ea12",
   "metadata": {},
   "outputs": [
    {
     "name": "stdout",
     "output_type": "stream",
     "text": [
      "Starting indices of anagram [0, 6]\n"
     ]
    }
   ],
   "source": [
    "#q6\n",
    "from collections import Counter\n",
    "def findAnagramIndices(s, p):\n",
    "    result = []\n",
    "    len_s, len_p = len(s), len(p)\n",
    "\n",
    "    freq_p = Counter(p)\n",
    "    freq_window = Counter(s[:len_p])\n",
    "    if freq_window == freq_p:\n",
    "        result.append(0)\n",
    "\n",
    "    for i in range(len_p, len_s):\n",
    "        left_char = s[i - len_p]\n",
    "        new_char = s[i]\n",
    "\n",
    "        freq_window[left_char] -= 1\n",
    "        if freq_window[left_char] == 0:\n",
    "            del freq_window[left_char]\n",
    "\n",
    "        freq_window[new_char] += 1\n",
    "\n",
    "        if freq_window == freq_p:\n",
    "            result.append(i - len_p + 1)\n",
    "\n",
    "    return result\n",
    "s = \"cbaebabacd\"\n",
    "p = \"abc\"\n",
    "result = findAnagramIndices(s, p)\n",
    "print(\"Starting indices of anagram\", result)\n"
   ]
  },
  {
   "cell_type": "code",
   "execution_count": 50,
   "id": "ffcd6144",
   "metadata": {},
   "outputs": [
    {
     "name": "stdout",
     "output_type": "stream",
     "text": [
      "aaabcbc\n"
     ]
    }
   ],
   "source": [
    "#q7\n",
    "def decode(Str):\n",
    "    integerstack = []\n",
    "    stringstack = []\n",
    "    temp = \"\"\n",
    "    result = \"\"\n",
    "    i = 0\n",
    "    # Traversing the string\n",
    "    while i < len(Str):\n",
    "        count = 0\n",
    "        if (Str[i] >= '0' and Str[i] <='9'):\n",
    "            while (Str[i] >= '0' and Str[i] <= '9'):\n",
    "                count = count * 10 + ord(Str[i]) - ord('0')\n",
    "                i += 1\n",
    "            i -= 1\n",
    "            integerstack.append(count)\n",
    "\n",
    "        elif (Str[i] == ']'):\n",
    "            temp = \"\"\n",
    "            count = 0\n",
    " \n",
    "            if (len(integerstack) != 0):\n",
    "                count = integerstack[-1]\n",
    "                integerstack.pop()\n",
    "            while (len(stringstack) != 0 and stringstack[-1] !='[' ):\n",
    "                temp = stringstack[-1] + temp\n",
    "                stringstack.pop()\n",
    " \n",
    "            if (len(stringstack) != 0 and stringstack[-1] == '['):\n",
    "                stringstack.pop()\n",
    "            for j in range(count):\n",
    "                result = result + temp\n",
    "            for j in range(len(result)):\n",
    "                stringstack.append(result[j])\n",
    " \n",
    "            result = \"\"\n",
    "        elif (Str[i] == '['):\n",
    "            if (Str[i-1] >= '0' and Str[i-1] <= '9'):\n",
    "                stringstack.append(Str[i])\n",
    " \n",
    "            else:\n",
    "                stringstack.append(Str[i])\n",
    "                integerstack.append(1)\n",
    " \n",
    "        else:\n",
    "            stringstack.append(Str[i])\n",
    "         \n",
    "        i += 1\n",
    "    # Poping all the element, make a string and return.\n",
    "    while len(stringstack) != 0:\n",
    "        result = stringstack[-1] + result\n",
    "        stringstack.pop()\n",
    " \n",
    "    return result\n",
    "if __name__ == '__main__':\n",
    "    Str = \"3[a]2[bc]\"\n",
    "    print(decode(Str))"
   ]
  },
  {
   "cell_type": "code",
   "execution_count": 51,
   "id": "a4ee6fd6",
   "metadata": {},
   "outputs": [
    {
     "name": "stdout",
     "output_type": "stream",
     "text": [
      "output: True\n"
     ]
    }
   ],
   "source": [
    "#q8\n",
    "def SwapLetter(s, goal):\n",
    "    if len(s) != len(goal):\n",
    "        return False\n",
    "    if s == goal:\n",
    "        char_count = {}\n",
    "        for char in s:\n",
    "            if char in char_count and char_count[char] >= 1:\n",
    "                return True\n",
    "            char_count[char] = char_count.get(char, 0) + 1\n",
    "        return False\n",
    "\n",
    "    diff_indices = []\n",
    "    for i in range(len(s)):\n",
    "        if s[i] != goal[i]:\n",
    "            diff_indices.append(i)\n",
    "\n",
    "    return len(diff_indices) == 2 and s[diff_indices[0]] == goal[diff_indices[1]] and s[diff_indices[1]] == goal[diff_indices[0]]\n",
    "s = \"ab\"\n",
    "goal = \"ba\"\n",
    "result = SwapLetter(s, goal)\n",
    "print(\"output:\", result)\n"
   ]
  },
  {
   "cell_type": "code",
   "execution_count": null,
   "id": "c39bc6b4",
   "metadata": {},
   "outputs": [],
   "source": []
  },
  {
   "cell_type": "code",
   "execution_count": null,
   "id": "fb2eb9a2",
   "metadata": {},
   "outputs": [],
   "source": []
  },
  {
   "cell_type": "code",
   "execution_count": null,
   "id": "424c8bbc",
   "metadata": {},
   "outputs": [],
   "source": []
  }
 ],
 "metadata": {
  "kernelspec": {
   "display_name": "Python 3 (ipykernel)",
   "language": "python",
   "name": "python3"
  },
  "language_info": {
   "codemirror_mode": {
    "name": "ipython",
    "version": 3
   },
   "file_extension": ".py",
   "mimetype": "text/x-python",
   "name": "python",
   "nbconvert_exporter": "python",
   "pygments_lexer": "ipython3",
   "version": "3.10.9"
  }
 },
 "nbformat": 4,
 "nbformat_minor": 5
}
