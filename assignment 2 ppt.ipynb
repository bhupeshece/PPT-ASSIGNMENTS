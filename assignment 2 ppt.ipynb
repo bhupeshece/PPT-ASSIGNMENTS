{
 "cells": [
  {
   "cell_type": "code",
   "execution_count": 14,
   "id": "dec7b16c",
   "metadata": {},
   "outputs": [
    {
     "name": "stdout",
     "output_type": "stream",
     "text": [
      "4\n"
     ]
    }
   ],
   "source": [
    "#q1\n",
    "def arrypairSum(num):\n",
    "    num.sort()  \n",
    "    max_sum = 0\n",
    "    for i in range(0, len(num), 2):\n",
    "        max_sum += num[i]\n",
    "    return max_sum\n",
    "num = [1, 4, 3, 2]\n",
    "print(arrypairSum(num)) \n",
    "\n"
   ]
  },
  {
   "cell_type": "code",
   "execution_count": 17,
   "id": "ff2b29c7",
   "metadata": {},
   "outputs": [
    {
     "name": "stdout",
     "output_type": "stream",
     "text": [
      "5\n"
     ]
    }
   ],
   "source": [
    "#q3\n",
    "def findLHS(nums):\n",
    "    numCounts = {}\n",
    "    ans = 0\n",
    "    for num in nums:\n",
    "        numCounts[num] = numCounts.get(num, 0) + 1\n",
    "    for key, val in numCounts.items():\n",
    "        if key + 1 in numCounts:\n",
    "            ans = max(ans, val + numCounts[key + 1])\n",
    "\n",
    "    return ans\n",
    "nums = [1, 3, 2, 2, 5, 2, 3, 7]\n",
    "print(findLHS(nums))  "
   ]
  },
  {
   "cell_type": "code",
   "execution_count": 27,
   "id": "e4bd2895",
   "metadata": {},
   "outputs": [
    {
     "name": "stdout",
     "output_type": "stream",
     "text": [
      "True\n"
     ]
    }
   ],
   "source": [
    "#q4\n",
    "from typing import List\n",
    "class Solution:\n",
    "    def canPlaceFlowers(self, flowerbed: List[int], n: int) -> bool:\n",
    "        count = 0\n",
    "        length = len(flowerbed)\n",
    "        for i in range(length):\n",
    "            if flowerbed[i] == 0 and (i == 0 or flowerbed[i-1] == 0) and (i == length-1 or flowerbed[i+1] == 0):\n",
    "                count += 1\n",
    "                flowerbed[i] = 1\n",
    "                if count >= n:\n",
    "                    return True\n",
    "        return False\n",
    "flowerbed = [1, 0, 0, 0, 1]\n",
    "n = 1\n",
    "\n",
    "solution = Solution()\n",
    "result = solution.canPlaceFlowers(flowerbed, n)\n",
    "print(result) \n"
   ]
  },
  {
   "cell_type": "code",
   "execution_count": 38,
   "id": "79248561",
   "metadata": {},
   "outputs": [
    {
     "name": "stdout",
     "output_type": "stream",
     "text": [
      "6\n"
     ]
    }
   ],
   "source": [
    "#q5\n",
    "import heapq\n",
    "from typing import List\n",
    "\n",
    "class Solution:\n",
    "    def maximumProduct(self, nums: List[int]) -> int:\n",
    "        pos = heapq.nlargest(3, nums)\n",
    "        neg = heapq.nsmallest(2, nums)\n",
    "        return max(neg[0] * neg[1] * pos[0], pos[0] * pos[1] * pos[2])\n",
    "nums = [1, 2,3]\n",
    "solution = Solution()\n",
    "result = solution.maximumProduct(nums)\n",
    "print(result) "
   ]
  },
  {
   "cell_type": "code",
   "execution_count": 43,
   "id": "cfb38f8a",
   "metadata": {},
   "outputs": [
    {
     "name": "stdout",
     "output_type": "stream",
     "text": [
      "4\n"
     ]
    }
   ],
   "source": [
    "#q6\n",
    "from typing import List\n",
    "\n",
    "class Solution:\n",
    "    def search(self, nums: List[int], target: int) -> int:\n",
    "        left = 0\n",
    "        right = len(nums) - 1\n",
    "\n",
    "        while left <= right:\n",
    "            middle = left + (right - left) // 2\n",
    "\n",
    "            if nums[middle] == target:\n",
    "                return middle\n",
    "            elif nums[middle] > target:\n",
    "                right = middle - 1\n",
    "            else:\n",
    "                left = middle + 1\n",
    "        return -1\n",
    "nums = [-1, 0, 3, 5, 9, 12]\n",
    "target = 9\n",
    "solution = Solution()\n",
    "result = solution.search(nums, target)\n",
    "print(result) "
   ]
  },
  {
   "cell_type": "code",
   "execution_count": 46,
   "id": "a9d412a1",
   "metadata": {},
   "outputs": [
    {
     "name": "stdout",
     "output_type": "stream",
     "text": [
      "Yes\n"
     ]
    }
   ],
   "source": [
    "#q7\n",
    "def check(arr):\n",
    "    N = len(arr)\n",
    "    inc = True\n",
    "    dec = True\n",
    "    for i in range(0, N-1):\n",
    "       \n",
    "        # To check if array is not increasing\n",
    "        if arr[i] > arr[i+1]:\n",
    "            inc = False\n",
    "    for i in range(0, N-1):\n",
    "       \n",
    "        if arr[i] < arr[i+1]:\n",
    "            dec = False\n",
    "    return inc or dec\n",
    "if __name__ == \"__main__\":\n",
    "    arr = [1, 2, 2, 3]\n",
    " \n",
    "    # Function call\n",
    "    ans = check(arr)\n",
    "    if ans == True:\n",
    "        print(\"Yes\")\n",
    "    else:\n",
    "        print(\"No\")\n",
    " "
   ]
  },
  {
   "cell_type": "code",
   "execution_count": null,
   "id": "9ec1737d",
   "metadata": {},
   "outputs": [],
   "source": []
  },
  {
   "cell_type": "code",
   "execution_count": null,
   "id": "0021a7fc",
   "metadata": {},
   "outputs": [],
   "source": []
  }
 ],
 "metadata": {
  "kernelspec": {
   "display_name": "Python 3 (ipykernel)",
   "language": "python",
   "name": "python3"
  },
  "language_info": {
   "codemirror_mode": {
    "name": "ipython",
    "version": 3
   },
   "file_extension": ".py",
   "mimetype": "text/x-python",
   "name": "python",
   "nbconvert_exporter": "python",
   "pygments_lexer": "ipython3",
   "version": "3.10.9"
  }
 },
 "nbformat": 4,
 "nbformat_minor": 5
}
