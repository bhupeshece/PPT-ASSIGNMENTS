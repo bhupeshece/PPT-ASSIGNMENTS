{
 "cells": [
  {
   "cell_type": "code",
   "execution_count": 12,
   "id": "6de4e19b",
   "metadata": {},
   "outputs": [
    {
     "name": "stdout",
     "output_type": "stream",
     "text": [
      "Mean sale for A Region  11.8\n",
      "Mean sale for B Region  20.2\n"
     ]
    }
   ],
   "source": [
    "#q1\n",
    "import numpy as np\n",
    "region_a_sales = [10, 15, 12, 8, 14]\n",
    "region_b_sales = [18, 20, 16, 22, 25]\n",
    "mean_sales_region_a = np.mean(region_a_sales)\n",
    "mean_sales_region_b = np.mean(region_b_sales)\n",
    "\n",
    "print(\"Mean sale for A Region \", mean_sales_region_a)\n",
    "print(\"Mean sale for B Region \", mean_sales_region_b)"
   ]
  },
  {
   "cell_type": "code",
   "execution_count": 14,
   "id": "b1e43734",
   "metadata": {},
   "outputs": [
    {
     "name": "stdout",
     "output_type": "stream",
     "text": [
      "survey response mode 4\n"
     ]
    }
   ],
   "source": [
    "#q2\n",
    "\n",
    "import statistics\n",
    "survey_responses = [4, 5, 2, 3, 5, 4, 3, 2, 4, 5]\n",
    "mode = statistics.mode(survey_responses)\n",
    "print(\"survey response mode\", mode)"
   ]
  },
  {
   "cell_type": "code",
   "execution_count": 17,
   "id": "d973d9ea",
   "metadata": {},
   "outputs": [
    {
     "name": "stdout",
     "output_type": "stream",
     "text": [
      "Median sal for A Department  5750.0\n",
      "Median sal for B Department  5500.0\n"
     ]
    }
   ],
   "source": [
    "#q3\n",
    "import numpy as np\n",
    "department_A_salary_data = [5000, 6000, 5500, 7000]\n",
    "department_B_salary_data = [4500, 5500, 5800, 6000, 5200]\n",
    "\n",
    "median_salary_department_A = np.median(department_A_salary_data)\n",
    "median_salary_department_B = np.median(department_B_salary_data)\n",
    "\n",
    "print(\"Median sal for A Department \", median_salary_department_A)\n",
    "print(\"Median sal for B Department \", median_salary_department_B)\n"
   ]
  },
  {
   "cell_type": "code",
   "execution_count": 18,
   "id": "9d1d03f0",
   "metadata": {},
   "outputs": [
    {
     "name": "stdout",
     "output_type": "stream",
     "text": [
      "stock price Range: 1.3000000000000007\n"
     ]
    }
   ],
   "source": [
    "#q4\n",
    "stock_price = [25.5, 24.8, 26.1, 25.3, 24.9]\n",
    "\n",
    "price_range = max(stock_price) - min(stock_price)\n",
    "\n",
    "print(\"stock price Range:\", price_range)\n"
   ]
  },
  {
   "cell_type": "markdown",
   "id": "f6a13f20",
   "metadata": {},
   "source": [
    "\n"
   ]
  },
  {
   "cell_type": "markdown",
   "id": "8aa1f6f2",
   "metadata": {},
   "source": [
    "\n",
    "\n",
    "\n",
    "\n"
   ]
  },
  {
   "cell_type": "code",
   "execution_count": null,
   "id": "90986bac",
   "metadata": {},
   "outputs": [],
   "source": [
    "\n"
   ]
  },
  {
   "cell_type": "code",
   "execution_count": 19,
   "id": "847b650d",
   "metadata": {},
   "outputs": [
    {
     "name": "stdout",
     "output_type": "stream",
     "text": [
      "T-Statistic: 1.4312528946642733\n",
      "P-Value: 0.19023970239078333\n"
     ]
    }
   ],
   "source": [
    "#q5\n",
    "import scipy.stats as stats\n",
    "group_a_scores = [85, 90, 92, 88, 91]\n",
    "group_b_scores = [82, 88, 90, 86, 87]\n",
    "\n",
    "t_statistic, p_value = stats.ttest_ind(group_a_scores, group_b_scores)\n",
    "\n",
    "print(\"T-Statistic:\", t_statistic)\n",
    "print(\"P-Value:\", p_value)"
   ]
  },
  {
   "cell_type": "code",
   "execution_count": 20,
   "id": "9f4e120e",
   "metadata": {},
   "outputs": [
    {
     "name": "stdout",
     "output_type": "stream",
     "text": [
      "Correlation Coefficient: 0.8757511375750132\n"
     ]
    }
   ],
   "source": [
    "#q6\n",
    "import numpy as np\n",
    "advertising_expenditure = np.array([10, 15, 12, 8, 14])\n",
    "sales = np.array([25, 30, 28, 20, 26])\n",
    "correlation_coefficient = np.corrcoef(advertising_expenditure, sales)[0, 1]\n",
    "\n",
    "print(\"Correlation Coefficient:\", correlation_coefficient)"
   ]
  },
  {
   "cell_type": "code",
   "execution_count": 21,
   "id": "b1bbf68d",
   "metadata": {},
   "outputs": [
    {
     "name": "stdout",
     "output_type": "stream",
     "text": [
      "Standard deviation  7.953949089757174\n"
     ]
    }
   ],
   "source": [
    "#q7\n",
    "\n",
    "import numpy as np\n",
    "\n",
    "height = [160, 170, 165, 155, 175, 180, 170]\n",
    "std_deviation = np.std(height)\n",
    "print(\"Standard deviation \", std_deviation)\n"
   ]
  },
  {
   "cell_type": "code",
   "execution_count": 25,
   "id": "8e3c9018",
   "metadata": {},
   "outputs": [
    {
     "name": "stdout",
     "output_type": "stream",
     "text": [
      "job satisfaction:\n",
      "Employee tenure: 3.0,  job satisfaction: 7.191489361702127\n",
      "Employee tenure: 4.5,  job satisfaction: 6.489361702127658\n",
      "Employee tenure: 6.0,  job satisfaction: 5.787234042553191\n"
     ]
    }
   ],
   "source": [
    "#q8\n",
    "import numpy as np\n",
    "from sklearn.linear_model import LinearRegression\n",
    "\n",
    "tenure = np.array([2, 3, 5, 4, 6, 2, 4]).reshape(-1, 1)\n",
    "satisfaction = np.array([7, 8, 6, 9, 5, 7, 6])\n",
    "model = LinearRegression()\n",
    "model.fit(tenure, satisfaction)\n",
    "new_tenure = np.array([[3], [4.5], [6]])\n",
    "predicted_satisfaction = model.predict(new_tenure)\n",
    "\n",
    "print(\"job satisfaction:\")\n",
    "for i in range(len(new_tenure)):\n",
    "    print(f\"Employee tenure: {new_tenure[i][0]},  job satisfaction: {predicted_satisfaction[i]}\")\n"
   ]
  },
  {
   "cell_type": "code",
   "execution_count": 26,
   "id": "a6fee492",
   "metadata": {},
   "outputs": [
    {
     "name": "stdout",
     "output_type": "stream",
     "text": [
      "Results of ANOVA:\n",
      "F-statistic: 16.0\n",
      "p-value: 0.003949772803445326\n",
      "There is significant difference in mean recovery times between the medication.\n"
     ]
    }
   ],
   "source": [
    "#q9\n",
    "from scipy.stats import f_oneway\n",
    "\n",
    "medication_a_recover_time = [10, 12, 14, 11, 13]\n",
    "medication_b_recover_time = [15, 17, 16, 14, 18]\n",
    "\n",
    "f_statistic, p_value = f_oneway(medication_a_recover_time, medication_b_recover_time)\n",
    "\n",
    "alpha = 0.05\n",
    "\n",
    "print(\"Results of ANOVA:\")\n",
    "print(\"F-statistic:\", f_statistic)\n",
    "print(\"p-value:\", p_value)\n",
    "\n",
    "if p_value < alpha:\n",
    "    print(\"There is significant difference in mean recovery times between the medication.\")\n",
    "else:\n",
    "    print(\"There is no significant difference in mean recovery times between the medication.\")\n"
   ]
  },
  {
   "cell_type": "code",
   "execution_count": 28,
   "id": "dcfc91c7",
   "metadata": {},
   "outputs": [
    {
     "name": "stdout",
     "output_type": "stream",
     "text": [
      "feedback ratings of 75th percentile 8.75\n"
     ]
    }
   ],
   "source": [
    "#q10\n",
    "import numpy as np\n",
    "feedback_rating = [8, 9, 7, 6, 8, 10, 9, 8, 7, 8]\n",
    "\n",
    "percentile_75th = np.percentile(feedback_rating, 75)\n",
    "\n",
    "print(\"feedback ratings of 75th percentile\", percentile_75th)\n"
   ]
  },
  {
   "cell_type": "code",
   "execution_count": 29,
   "id": "c2598a87",
   "metadata": {},
   "outputs": [
    {
     "name": "stdout",
     "output_type": "stream",
     "text": [
      "Results of the t-test:\n",
      "t-statistic: 1.5126584522688367\n",
      "p-value: 0.19077595151110102\n",
      "mean weight does not differ significantly from 10 gm.\n"
     ]
    }
   ],
   "source": [
    "#q11\n",
    "from scipy.stats import ttest_1samp\n",
    "\n",
    "wght = [10.2, 9.8, 10.0, 10.5, 10.3, 10.1]\n",
    "population_mean = 10.0\n",
    "t_statistic, p_value = ttest_1samp(wght, population_mean)\n",
    "\n",
    "alpha = 0.05\n",
    "\n",
    "print(\"Results of the t-test:\")\n",
    "print(\"t-statistic:\", t_statistic)\n",
    "print(\"p-value:\", p_value)\n",
    "\n",
    "if p_value < alpha:\n",
    "    print(\"mean weight differs significantly from 10 gm.\")\n",
    "else:\n",
    "    print(\"mean weight does not differ significantly from 10 gm.\")\n"
   ]
  },
  {
   "cell_type": "code",
   "execution_count": 30,
   "id": "7c54da83",
   "metadata": {},
   "outputs": [
    {
     "name": "stdout",
     "output_type": "stream",
     "text": [
      "Results of the chi-square test:\n",
      "Chi-square statistic: 6.110658166925435\n",
      "p-value: 0.19103526314060293\n",
      "no significant difference in click-through rates between the design\n"
     ]
    }
   ],
   "source": [
    "#q12\n",
    "import numpy as np\n",
    "from scipy.stats import chi2_contingency\n",
    "\n",
    "clickdesign_a = [100, 120, 110, 90, 95]\n",
    "clickdesign_b = [80, 85, 90, 95, 100]\n",
    "\n",
    "contingency_table = np.array([clickdesign_a, clickdesign_b])\n",
    "chi2, p_value, _, _ = chi2_contingency(contingency_table)\n",
    "\n",
    "alpha = 0.05\n",
    "\n",
    "print(\"Results of the chi-square test:\")\n",
    "print(\"Chi-square statistic:\", chi2)\n",
    "print(\"p-value:\", p_value)\n",
    "\n",
    "if p_value < alpha:\n",
    "    print(\"significant difference in click-through rates between the design\")\n",
    "else:\n",
    "    print(\"no significant difference in click-through rates between the design\")\n"
   ]
  },
  {
   "cell_type": "code",
   "execution_count": 32,
   "id": "2ae6ac7f",
   "metadata": {},
   "outputs": [
    {
     "name": "stdout",
     "output_type": "stream",
     "text": [
      "95% Confidence Interval for population mean satisfaction score:\n",
      "(7.043561120599888, 8.756438879400113)\n"
     ]
    }
   ],
   "source": [
    "#q13\n",
    "import numpy as np\n",
    "from scipy.stats import t\n",
    "\n",
    "satisfaction_score = [7, 9, 6, 8, 10, 7, 8, 9, 7, 8]\n",
    "sample_mean = np.mean(satisfaction_score)\n",
    "sample_std = np.std(satisfaction_score, ddof=1)\n",
    "sample_size = len(satisfaction_score)\n",
    "\n",
    "#  standard error\n",
    "standard_error = sample_std / np.sqrt(sample_size)\n",
    "confidence_level = 0.95\n",
    "degrees_of_freedom = sample_size - 1\n",
    "\n",
    "#  critical value (two-tailed)\n",
    "critical_value = t.ppf(1 - (1 - confidence_level) / 2, degrees_of_freedom)\n",
    "\n",
    "confidence_interval = (sample_mean - critical_value * standard_error,\n",
    "                       sample_mean + critical_value * standard_error)\n",
    "\n",
    "print(\"95% Confidence Interval for population mean satisfaction score:\")\n",
    "print(confidence_interval)\n"
   ]
  },
  {
   "cell_type": "code",
   "execution_count": 34,
   "id": "6a33404e",
   "metadata": {},
   "outputs": [
    {
     "name": "stdout",
     "output_type": "stream",
     "text": [
      "Predicted performance is:\n",
      "Temperature: 18, Predicted performance: 6.1\n",
      "Temperature: 24, Predicted performance: 9.099999999999998\n"
     ]
    }
   ],
   "source": [
    "#q14\n",
    "\n",
    "import numpy as np\n",
    "from sklearn.linear_model import LinearRegression\n",
    "\n",
    "temperature_data = np.array([20, 22, 23, 19, 21]).reshape(-1, 1)\n",
    "performance_data = np.array([8, 7, 9, 6, 8])\n",
    "\n",
    "model = LinearRegression()\n",
    "model.fit(temperature_data, performance_data)\n",
    "new_temperature_data = np.array([[18], [24]])\n",
    "predicted_performance_data = model.predict(new_temperature_data)\n",
    "\n",
    "print(\"Predicted performance is:\")\n",
    "for i in range(len(new_temperature_data)):\n",
    "    print(f\"Temperature: {new_temperature_data[i][0]}, Predicted performance: {predicted_performance_data[i]}\")\n"
   ]
  },
  {
   "cell_type": "code",
   "execution_count": 46,
   "id": "7a4ff304",
   "metadata": {},
   "outputs": [
    {
     "name": "stdout",
     "output_type": "stream",
     "text": [
      "Results of the Mann-Whitney U test:\n",
      "U statistic: 17.0\n",
      "p-value: 0.380836480306712\n",
      "no significant difference in median preferences between the groups.\n"
     ]
    }
   ],
   "source": [
    "#q15\n",
    "from scipy.stats import mannwhitneyu\n",
    "\n",
    "groupa_preferences = [4, 3, 5, 2, 4]\n",
    "groupb_preferences = [3, 2, 4, 3, 3]\n",
    "\n",
    "statistic, p_value = mannwhitneyu(groupa_preferences, groupb_preferences)\n",
    "\n",
    "alpha = 0.05\n",
    "\n",
    "print(\"Results of the Mann-Whitney U test:\")\n",
    "print(\"U statistic:\", statistic)\n",
    "print(\"p-value:\", p_value)\n",
    "\n",
    "if p_value < alpha:\n",
    "    print(\"significant difference in median preferences between the groups.\")\n",
    "else:\n",
    "    print(\"no significant difference in median preferences between the groups.\")\n",
    "\n"
   ]
  },
  {
   "cell_type": "code",
   "execution_count": 40,
   "id": "09a64d94",
   "metadata": {},
   "outputs": [
    {
     "name": "stdout",
     "output_type": "stream",
     "text": [
      "Interquartile Range (IQR) of ages: 22.5\n"
     ]
    }
   ],
   "source": [
    "#q16\n",
    "import numpy as np\n",
    "ages = [25, 30, 35, 40, 45, 50, 55, 60, 65, 70]\n",
    "q1 = np.percentile(ages, 25)\n",
    "q3 = np.percentile(ages, 75)\n",
    "iqr = q3 - q1\n",
    "\n",
    "print(\"Interquartile Range (IQR) of ages:\", iqr)\n"
   ]
  },
  {
   "cell_type": "code",
   "execution_count": 48,
   "id": "79866c23",
   "metadata": {},
   "outputs": [
    {
     "name": "stdout",
     "output_type": "stream",
     "text": [
      "Results of the Kruskal-Wallis test:\n",
      "Test statistic: 9.696947935368053\n",
      "p-value: 0.007840333026249539\n",
      "significant difference in median accuracy scores between the algo\n"
     ]
    }
   ],
   "source": [
    "#q17\n",
    "\n",
    "from scipy.stats import kruskal\n",
    "\n",
    "algorithm_a_score = [0.85, 0.80, 0.82, 0.87, 0.83]\n",
    "algorithm_b_score = [0.78, 0.82, 0.84, 0.80, 0.79]\n",
    "algorithm_c_score = [0.90, 0.88, 0.89, 0.86, 0.87]\n",
    "statistic, p_value = kruskal(algorithm_a_score, algorithm_b_score, algorithm_c_score)\n",
    "\n",
    "alpha = 0.05\n",
    "\n",
    "print(\"Results of the Kruskal-Wallis test:\")\n",
    "print(\"Test statistic:\", statistic)\n",
    "print(\"p-value:\", p_value)\n",
    "\n",
    "if p_value < alpha:\n",
    "    print(\"significant difference in median accuracy scores between the algo\")\n",
    "else:\n",
    "    print(\" no significant difference in median accuracy scores between the algo\")\n"
   ]
  },
  {
   "cell_type": "code",
   "execution_count": 49,
   "id": "6d229845",
   "metadata": {},
   "outputs": [
    {
     "name": "stdout",
     "output_type": "stream",
     "text": [
      "Predicted sale\n",
      "Price: 13, Predicted sales: 90.79268292682926\n",
      "Price: 11, Predicted sales: 97.80487804878048\n"
     ]
    }
   ],
   "source": [
    "#q18\n",
    "\n",
    "import numpy as np\n",
    "from sklearn.linear_model import LinearRegression\n",
    "\n",
    "price = np.array([10, 15, 12, 8, 14]).reshape(-1, 1)\n",
    "sales = np.array([100, 80, 90, 110, 95])\n",
    "model = LinearRegression()\n",
    "model.fit(price, sales)\n",
    "\n",
    "new_price = np.array([[13], [11]])\n",
    "predicted_sale = model.predict(new_price)\n",
    "\n",
    "print(\"Predicted sale\")\n",
    "for i in range(len(new_price)):\n",
    "    print(f\"Price: {new_price[i][0]}, Predicted sales: {predicted_sale[i]}\")\n"
   ]
  },
  {
   "cell_type": "code",
   "execution_count": 50,
   "id": "2d995985",
   "metadata": {},
   "outputs": [
    {
     "name": "stdout",
     "output_type": "stream",
     "text": [
      "Mean Standard Error 0.28982753492378877\n"
     ]
    }
   ],
   "source": [
    "#q19\n",
    "\n",
    "import numpy as np\n",
    "\n",
    "satisfaction_scores = [7, 8, 9, 6, 8, 7, 9, 7, 8, 7]\n",
    "sem = np.std(satisfaction_scores) / np.sqrt(len(satisfaction_scores))\n",
    "\n",
    "print(\"Mean Standard Error\", sem)\n"
   ]
  },
  {
   "cell_type": "code",
   "execution_count": 53,
   "id": "440e9fbd",
   "metadata": {},
   "outputs": [
    {
     "name": "stdout",
     "output_type": "stream",
     "text": [
      "Coeff: 1.152439024390244\n",
      "Intercept: 12.20121951219512\n"
     ]
    }
   ],
   "source": [
    "#q20\n",
    "\n",
    "from sklearn.linear_model import LinearRegression\n",
    "import numpy as np\n",
    "\n",
    "advertising_expenditure = np.array([10, 15, 12, 8, 14]).reshape(-1, 1)\n",
    "sales = np.array([25, 30, 28, 20, 26])\n",
    "model = LinearRegression()\n",
    "model.fit(advertising_expenditure, sales)\n",
    "\n",
    "coefficient = model.coef_[0]\n",
    "intercept = model.intercept_\n",
    "\n",
    "print(\"Coeff:\", coefficient)\n",
    "print(\"Intercept:\", intercept)\n"
   ]
  },
  {
   "cell_type": "code",
   "execution_count": null,
   "id": "ef03a99b",
   "metadata": {},
   "outputs": [],
   "source": []
  }
 ],
 "metadata": {
  "kernelspec": {
   "display_name": "Python 3 (ipykernel)",
   "language": "python",
   "name": "python3"
  },
  "language_info": {
   "codemirror_mode": {
    "name": "ipython",
    "version": 3
   },
   "file_extension": ".py",
   "mimetype": "text/x-python",
   "name": "python",
   "nbconvert_exporter": "python",
   "pygments_lexer": "ipython3",
   "version": "3.10.9"
  }
 },
 "nbformat": 4,
 "nbformat_minor": 5
}
