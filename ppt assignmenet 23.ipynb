{
 "cells": [
  {
   "cell_type": "code",
   "execution_count": 47,
   "id": "75936ddd",
   "metadata": {},
   "outputs": [
    {
     "name": "stdout",
     "output_type": "stream",
     "text": [
      "2\n",
      "3\n"
     ]
    }
   ],
   "source": [
    "#q1\n",
    "def calculateDepth(preorder, index):\n",
    "    if index >= len(preorder):\n",
    "        return -1\n",
    "\n",
    "    if preorder[index] == 'l':\n",
    "        return 0\n",
    "    index += 1\n",
    "    left_depth = calculateDepth(preorder, index)\n",
    "    index += left_depth + 1\n",
    "    right_depth = calculateDepth(preorder, index)\n",
    "\n",
    "    return max(left_depth, right_depth) + 1\n",
    "\n",
    "def calculateTreeDepth(preorder):\n",
    "    return calculateDepth(preorder, 0)\n",
    "\n",
    "preorder1 = 'nlnll'\n",
    "print(calculateTreeDepth(preorder1)) \n",
    "preorder2 = 'nlnnlll'\n",
    "print(calculateTreeDepth(preorder2))  \n"
   ]
  },
  {
   "cell_type": "code",
   "execution_count": null,
   "id": "deb124d1",
   "metadata": {},
   "outputs": [],
   "source": []
  },
  {
   "cell_type": "code",
   "execution_count": 48,
   "id": "64161356",
   "metadata": {},
   "outputs": [
    {
     "name": "stdout",
     "output_type": "stream",
     "text": [
      "Left view of tree:   4 5 3 6 \n"
     ]
    }
   ],
   "source": [
    "#q2\n",
    "class Node:\n",
    "    def __init__(self, value):\n",
    "        self.data = value\n",
    "        self.left = None\n",
    "        self.right = None\n",
    "\n",
    "def leftViewUtil(node, level, max_level):\n",
    "    if node is None:\n",
    "        return\n",
    "\n",
    "    if level > max_level[0]:\n",
    "        print(node.data, end=\" \")\n",
    "        max_level[0] = level\n",
    "\n",
    "    leftViewUtil(node.left, level + 1, max_level)\n",
    "    leftViewUtil(node.right, level + 1, max_level)\n",
    "\n",
    "def leftView(root):\n",
    "    max_level = [-1]  \n",
    "    leftViewUtil(root, 1, max_level)\n",
    "\n",
    "root = Node(4)\n",
    "root.left = Node(5)\n",
    "root.right = Node(2)\n",
    "root.right.left = Node(3)\n",
    "root.right.right = Node(1)\n",
    "root.right.left.left = Node(6)\n",
    "root.right.left.right = Node(7)\n",
    "\n",
    "print(\"Left view of tree:\", end=\"   \")\n",
    "leftView(root)\n",
    "print()\n"
   ]
  },
  {
   "cell_type": "code",
   "execution_count": 49,
   "id": "b8e9fea1",
   "metadata": {},
   "outputs": [
    {
     "name": "stdout",
     "output_type": "stream",
     "text": [
      "1 3 7 8 \n"
     ]
    }
   ],
   "source": [
    "#q3\n",
    "class TreeNode:\n",
    "    def __init__(self, x):\n",
    "        self.val = x\n",
    "        self.left = None\n",
    "        self.right = None\n",
    "\n",
    "def rightSideView(root):\n",
    "    res = []\n",
    "    curr = root\n",
    "    while curr:\n",
    "        if not curr.right:  \n",
    "            res.append(curr.val)\n",
    "            curr = curr.right  \n",
    "        else:  \n",
    "            next = curr.right  \n",
    "            # right child\n",
    "            while next.left and next.left != curr:\n",
    "                next = next.left\n",
    " \n",
    "            if not next.left: \n",
    "                res.append(curr.val)\n",
    "                next.left = curr\n",
    "                curr = curr.right\n",
    "            else:\n",
    "                next.left = None\n",
    "                curr = curr.left\n",
    "    return res\n",
    "if __name__ == '__main__':\n",
    "    root = TreeNode(1)\n",
    "    root.left = TreeNode(2)\n",
    "    root.right = TreeNode(3)\n",
    "    root.left.left = TreeNode(4)\n",
    "    root.left.right = TreeNode(5)\n",
    "    root.right.left = TreeNode(6)\n",
    "    root.right.right = TreeNode(7)\n",
    "    root.right.right.right = TreeNode(8)\n",
    "    res = rightSideView(root)\n",
    "    for i in res:\n",
    "        print(i, end=\" \")\n",
    "    print()"
   ]
  },
  {
   "cell_type": "code",
   "execution_count": null,
   "id": "0c0e551b",
   "metadata": {},
   "outputs": [],
   "source": []
  },
  {
   "cell_type": "code",
   "execution_count": null,
   "id": "9e57b575",
   "metadata": {},
   "outputs": [],
   "source": []
  }
 ],
 "metadata": {
  "kernelspec": {
   "display_name": "Python 3 (ipykernel)",
   "language": "python",
   "name": "python3"
  },
  "language_info": {
   "codemirror_mode": {
    "name": "ipython",
    "version": 3
   },
   "file_extension": ".py",
   "mimetype": "text/x-python",
   "name": "python",
   "nbconvert_exporter": "python",
   "pygments_lexer": "ipython3",
   "version": "3.10.9"
  }
 },
 "nbformat": 4,
 "nbformat_minor": 5
}
