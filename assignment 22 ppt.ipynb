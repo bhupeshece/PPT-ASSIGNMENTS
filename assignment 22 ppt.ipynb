{
 "cells": [
  {
   "cell_type": "code",
   "execution_count": 37,
   "id": "a2498384",
   "metadata": {},
   "outputs": [
    {
     "name": "stdout",
     "output_type": "stream",
     "text": [
      "25 12 30 10 36 15 "
     ]
    }
   ],
   "source": [
    "#q1\n",
    "class Node:\n",
    "    def __init__(self, val):\n",
    "        self.right = None\n",
    "        self.data = val\n",
    "        self.left = None\n",
    "prev = None\n",
    "  \n",
    "def BinaryTree2DoubleLinkedList(root):\n",
    "          # Base case\n",
    "    if root is None:\n",
    "        return root\n",
    "\n",
    "    head = BinaryTree2DoubleLinkedList(root.left);\n",
    "    global prev\n",
    "    if prev is None : \n",
    "        head = root\n",
    "          \n",
    "    else:\n",
    "        root.left = prev\n",
    "        prev.right = root\n",
    "\n",
    "    prev = root; \n",
    "\n",
    "    BinaryTree2DoubleLinkedList(root.right);\n",
    "      \n",
    "    return head\n",
    "  \n",
    "def print_dll(head):\n",
    "    while head is not None:\n",
    "        print(head.data, end=\" \")\n",
    "        head = head.right\n",
    "if __name__ == '__main__':\n",
    "    root = Node(10)\n",
    "    root.left = Node(12)\n",
    "    root.right = Node(15)\n",
    "    root.left.left = Node(25)\n",
    "    root.left.right = Node(30)\n",
    "    root.right.left = Node(36)\n",
    "      \n",
    "    head = BinaryTree2DoubleLinkedList(root)\n",
    "    print_dll(head)"
   ]
  },
  {
   "cell_type": "code",
   "execution_count": 36,
   "id": "a9fb5166",
   "metadata": {},
   "outputs": [
    {
     "name": "stdout",
     "output_type": "stream",
     "text": [
      "1 3 2 5 4 "
     ]
    }
   ],
   "source": [
    "#q2\n",
    "class TreeNode:\n",
    "    def __init__(self, val=0, left=None, right=None):\n",
    "        self.val = val\n",
    "        self.left = left\n",
    "        self.right = right\n",
    "def flipBinaryTree(root):\n",
    "    if root is None or (root.left is None and root.right is None):\n",
    "        return root\n",
    "\n",
    "    root.left, root.right = root.right, root.left\n",
    "\n",
    "    # Recursively flip the left and right subtrees\n",
    "    root.left = flipBinaryTree(root.left)\n",
    "    root.right = flipBinaryTree(root.right)\n",
    "\n",
    "    return root\n",
    "root = TreeNode(1)\n",
    "root.left = TreeNode(2)\n",
    "root.right = TreeNode(3)\n",
    "root.left.left = TreeNode(4)\n",
    "root.left.right = TreeNode(5)\n",
    "\n",
    "flipped_root = flipBinaryTree(root)\n",
    "\n",
    "def printPreorder(node):\n",
    "    if node:\n",
    "        print(node.val, end=\" \")\n",
    "        printPreorder(node.left)\n",
    "        printPreorder(node.right)\n",
    "\n",
    "printPreorder(flipped_root)  "
   ]
  },
  {
   "cell_type": "code",
   "execution_count": 31,
   "id": "a618424c",
   "metadata": {},
   "outputs": [
    {
     "name": "stdout",
     "output_type": "stream",
     "text": [
      "Yes\n"
     ]
    }
   ],
   "source": [
    "#Q4\n",
    "def chkTraversals(inorder, preorder, postorder):\n",
    "    if not inorder or not preorder or not postorder:\n",
    "        return True\n",
    "    if preorder[0] != postorder[-1]:\n",
    "        return False\n",
    "\n",
    "    root_index = inorder.index(preorder[0])\n",
    "    left_inorder = inorder[:root_index]\n",
    "    right_inorder = inorder[root_index + 1:]\n",
    "    left_preorder = preorder[1:root_index + 1]\n",
    "    right_preorder = preorder[root_index + 1:]\n",
    "    left_postorder = postorder[:root_index]\n",
    "    right_postorder = postorder[root_index:-1]\n",
    "\n",
    "    left = chkTraversals(left_inorder, left_preorder, left_postorder)\n",
    "    right = chkTraversals(right_inorder, right_preorder, right_postorder)\n",
    "\n",
    "    # Return True if both subtrees are consistent\n",
    "    return left and right\n",
    "if __name__ == '__main__':\n",
    "    inorder = [4, 2, 5, 1, 3]\n",
    "    preorder = [1, 2, 4, 5, 3]\n",
    "    postorder = [4, 5, 2, 3, 1]\n",
    "\n",
    "    result = chkTraversals(inorder, preorder, postorder)\n",
    "\n",
    "    if result:\n",
    "        print(\"Yes\")\n",
    "    else:\n",
    "        print(\"No\")\n"
   ]
  },
  {
   "cell_type": "code",
   "execution_count": null,
   "id": "d2fd8088",
   "metadata": {},
   "outputs": [],
   "source": []
  },
  {
   "cell_type": "code",
   "execution_count": null,
   "id": "33fadda1",
   "metadata": {},
   "outputs": [],
   "source": []
  },
  {
   "cell_type": "code",
   "execution_count": null,
   "id": "407eaa53",
   "metadata": {},
   "outputs": [],
   "source": []
  }
 ],
 "metadata": {
  "kernelspec": {
   "display_name": "Python 3 (ipykernel)",
   "language": "python",
   "name": "python3"
  },
  "language_info": {
   "codemirror_mode": {
    "name": "ipython",
    "version": 3
   },
   "file_extension": ".py",
   "mimetype": "text/x-python",
   "name": "python",
   "nbconvert_exporter": "python",
   "pygments_lexer": "ipython3",
   "version": "3.10.9"
  }
 },
 "nbformat": 4,
 "nbformat_minor": 5
}
