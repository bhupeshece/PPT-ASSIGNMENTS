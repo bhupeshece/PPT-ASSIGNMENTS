{
 "cells": [
  {
   "cell_type": "code",
   "execution_count": 1,
   "id": "709e308b",
   "metadata": {},
   "outputs": [
    {
     "name": "stdout",
     "output_type": "stream",
     "text": [
      "Enter the string: ineuron\n",
      "The reverse string is norueni\n"
     ]
    }
   ],
   "source": [
    "#q1\n",
    "def findReverse(string):  \n",
    "   # find reverse of string\n",
    "   if len(string) == 0:\n",
    "      return string\n",
    "   else:\n",
    "      return findReverse(string[1:]) + string[0]\n",
    "string = input('Enter the string: ')\n",
    "reverse = findReverse(string)\n",
    "print('The reverse string is', reverse)"
   ]
  },
  {
   "cell_type": "code",
   "execution_count": 2,
   "id": "d159cbd7",
   "metadata": {},
   "outputs": [
    {
     "name": "stdout",
     "output_type": "stream",
     "text": [
      "civic is: Palindrome\n"
     ]
    }
   ],
   "source": [
    "#q2\n",
    "string = \"civic\"\n",
    "\n",
    "reverse = ''.join(reversed(string))\n",
    "\n",
    "print(string + \" is: \", end=\"\")\n",
    "print(\"Palindrome\") if string == reverse else print(\"Not Palindrome\")\n"
   ]
  },
  {
   "cell_type": "code",
   "execution_count": 3,
   "id": "1da919a8",
   "metadata": {},
   "outputs": [
    {
     "name": "stdout",
     "output_type": "stream",
     "text": [
      "largest in  [3, 9, 7, 3, 6, 5, 7, 24, 6] is\n",
      "24\n"
     ]
    }
   ],
   "source": [
    "#q3\n",
    "def largest(list):\n",
    "    large= list[0]\n",
    "    for i in list:\n",
    "        if i>large:\n",
    "            large=i\n",
    "    return large\n",
    "\n",
    "#list\n",
    "list=[3, 9, 7, 3, 6, 5, 7, 24, 6]\n",
    "print(\"largest in \",list,\"is\")\n",
    "print(largest(list))"
   ]
  },
  {
   "cell_type": "code",
   "execution_count": 4,
   "id": "79a5c302",
   "metadata": {},
   "outputs": [
    {
     "name": "stdout",
     "output_type": "stream",
     "text": [
      "Occurrences: {1: 2, 2: 2, 3: 2, 4: 3, 5: 1}\n"
     ]
    }
   ],
   "source": [
    "#q4\n",
    "def count_occurrences(lst):\n",
    "    occurrence_count = {}\n",
    "    \n",
    "    for element in lst:\n",
    "        if element in occurrence_count:\n",
    "            occurrence_count[element] += 1\n",
    "        else:\n",
    "            occurrence_count[element] = 1\n",
    "    \n",
    "    return occurrence_count\n",
    "\n",
    "numbers = [1, 2, 3, 2, 1, 3, 4, 5, 4, 4]\n",
    "occurrence_dict = count_occurrences(numbers)\n",
    "print(\"Occurrences:\", occurrence_dict)\n"
   ]
  },
  {
   "cell_type": "code",
   "execution_count": 5,
   "id": "2bb5def1",
   "metadata": {},
   "outputs": [
    {
     "name": "stdout",
     "output_type": "stream",
     "text": [
      "Second highest number is :  45\n"
     ]
    }
   ],
   "source": [
    "#q5\n",
    "list1 = [10, 20, 4, 45, 99]\n",
    " \n",
    "mx = max(list1[0], list1[1])\n",
    "secondmax = min(list1[0], list1[1])\n",
    "n = len(list1)\n",
    "for i in range(2,n):\n",
    "    if list1[i] > mx:\n",
    "        secondmax = mx\n",
    "        mx = list1[i]\n",
    "    elif list1[i] > secondmax and \\\n",
    "        mx != list1[i]:\n",
    "        secondmax = list1[i]\n",
    "    elif mx == secondmax and \\\n",
    "        secondmax != list1[i]:\n",
    "          secondmax = list1[i]\n",
    " \n",
    "print(\"Second highest number is : \",\\\n",
    "      str(secondmax))"
   ]
  },
  {
   "cell_type": "code",
   "execution_count": 6,
   "id": "0ad6ebeb",
   "metadata": {},
   "outputs": [
    {
     "name": "stdout",
     "output_type": "stream",
     "text": [
      "[2, 4, 10, 20, 5]\n"
     ]
    }
   ],
   "source": [
    "#q6\n",
    "def Remove(duplicate):\n",
    "    final_list = []\n",
    "    for num in duplicate:\n",
    "        if num not in final_list:\n",
    "            final_list.append(num)\n",
    "    return final_list\n",
    "     \n",
    "# Driver Code\n",
    "duplicate = [2, 4, 10, 20, 5, 2, 20, 4]\n",
    "print(Remove(duplicate))"
   ]
  },
  {
   "cell_type": "code",
   "execution_count": 7,
   "id": "cc5db21a",
   "metadata": {},
   "outputs": [
    {
     "name": "stdout",
     "output_type": "stream",
     "text": [
      "enter a number5\n",
      "fact of given number is 120\n"
     ]
    }
   ],
   "source": [
    "#q7\n",
    "def fact(a):\n",
    "    if a==0:\n",
    "        return 1\n",
    "    else:\n",
    "        return ((a)*fact(a-1))\n",
    "num=int(input('enter a number'))\n",
    "result=fact(num)\n",
    "print(\"fact of given number is\", result)"
   ]
  },
  {
   "cell_type": "code",
   "execution_count": 8,
   "id": "96ead685",
   "metadata": {},
   "outputs": [
    {
     "name": "stdout",
     "output_type": "stream",
     "text": [
      "11 is a prime number\n"
     ]
    }
   ],
   "source": [
    "#q8\n",
    "num = 11\n",
    "if num > 1:\n",
    "    for i in range(2, int(num/2)+1):\n",
    "        \n",
    "        if (num % i) == 0:\n",
    "            print(num, \"is not a prime number\")\n",
    "            break\n",
    "    else:\n",
    "        print(num, \"is a prime number\")\n",
    "else:\n",
    "    print(num, \"is not a prime number\")"
   ]
  },
  {
   "cell_type": "code",
   "execution_count": 9,
   "id": "3eb3bec4",
   "metadata": {},
   "outputs": [
    {
     "name": "stdout",
     "output_type": "stream",
     "text": [
      "Sorted numbers: [1, 2, 3, 5, 8, 9]\n"
     ]
    }
   ],
   "source": [
    "#q9\n",
    "def ascending_sort(lst):\n",
    "    sorted_lst = sorted(lst)\n",
    "    return sorted_lst\n",
    "\n",
    "numbers = [5, 2, 8, 1, 9, 3]\n",
    "sorted_numbers = ascending_sort(numbers)\n",
    "print(\"Sorted numbers:\", sorted_numbers)"
   ]
  },
  {
   "cell_type": "code",
   "execution_count": 10,
   "id": "74ef0ffe",
   "metadata": {},
   "outputs": [
    {
     "name": "stdout",
     "output_type": "stream",
     "text": [
      "Sum of numbers: 28\n"
     ]
    }
   ],
   "source": [
    "#q10\n",
    "def sum_of_numbers(lst):\n",
    "    total = sum(lst)\n",
    "    return total\n",
    "\n",
    "numbers = [5, 2, 8, 1, 9, 3]\n",
    "sum_of_nums = sum_of_numbers(numbers)\n",
    "print(\"Sum of numbers:\", sum_of_nums)"
   ]
  },
  {
   "cell_type": "code",
   "execution_count": 11,
   "id": "706510e8",
   "metadata": {},
   "outputs": [
    {
     "name": "stdout",
     "output_type": "stream",
     "text": [
      "The common elements in the two lists are: \n",
      "[5]\n"
     ]
    }
   ],
   "source": [
    "#q11\n",
    "def common_member(a, b):\n",
    "    result = [i for i in a if i in b]\n",
    "    return result\n",
    " \n",
    "a = [1, 2, 3, 4, 5]\n",
    "b = [5, 6, 7, 8, 9]\n",
    " \n",
    "print(\"The common elements in the two lists are: \")\n",
    "print(common_member(a, b))"
   ]
  },
  {
   "cell_type": "code",
   "execution_count": 12,
   "id": "756d3c17",
   "metadata": {},
   "outputs": [
    {
     "name": "stdout",
     "output_type": "stream",
     "text": [
      "Enter first string :cat\n",
      "Enter second string :act\n",
      "The strings are anagrams.\n"
     ]
    }
   ],
   "source": [
    "#q12\n",
    "def check(s1, s2):\n",
    "  \n",
    "  if(sorted(s1)== sorted(s2)):\n",
    "    print(\"The strings are anagrams.\")\n",
    "  else:\n",
    "    print(\"The strings aren't anagrams.\")    \n",
    "    \n",
    "s1 =input(\"Enter first string :\")\n",
    "s2 =input(\"Enter second string :\")\n",
    "check(s1, s2)"
   ]
  },
  {
   "cell_type": "code",
   "execution_count": 14,
   "id": "51d77751",
   "metadata": {},
   "outputs": [
    {
     "name": "stdout",
     "output_type": "stream",
     "text": [
      "yup\n",
      "ypu\n",
      "uyp\n",
      "upy\n",
      "puy\n",
      "pyu\n",
      "None\n"
     ]
    }
   ],
   "source": [
    "#q13\n",
    "def get_permutation(string, i=0):\n",
    "\n",
    "    if i == len(string):   \t \n",
    "        print(\"\".join(string))\n",
    "\n",
    "    for j in range(i, len(string)):\n",
    "\n",
    "        words = [c for c in string]\n",
    "   \n",
    "        # swap\n",
    "        words[i], words[j] = words[j], words[i]\n",
    "   \t \n",
    "        get_permutation(words, i + 1)\n",
    "\n",
    "print(get_permutation('yup'))"
   ]
  },
  {
   "cell_type": "code",
   "execution_count": 15,
   "id": "38ff3e63",
   "metadata": {},
   "outputs": [
    {
     "name": "stdout",
     "output_type": "stream",
     "text": [
      "34\n"
     ]
    }
   ],
   "source": [
    "#q14\n",
    "def Fibonacci(n):\n",
    "    if n<= 0:\n",
    "        print(\"Incorrect input\")\n",
    "\n",
    "    elif n == 1:\n",
    "        return 0\n",
    "    elif n == 2:\n",
    "        return 1\n",
    "    else:\n",
    "        return Fibonacci(n-1)+Fibonacci(n-2)\n",
    "print(Fibonacci(10))"
   ]
  },
  {
   "cell_type": "code",
   "execution_count": 17,
   "id": "26c6e6a7",
   "metadata": {},
   "outputs": [
    {
     "name": "stdout",
     "output_type": "stream",
     "text": [
      "Median: 5\n"
     ]
    }
   ],
   "source": [
    "#q15\n",
    "def find_median(numbers):\n",
    "    sorted_numbers = sorted(numbers)\n",
    "    n = len(sorted_numbers)\n",
    "    \n",
    "    if n % 2 == 0:\n",
    "        mid_right = n // 2\n",
    "        mid_left = mid_right - 1\n",
    "        median = (sorted_numbers[mid_left] + sorted_numbers[mid_right]) / 2\n",
    "    else:\n",
    "        mid = n // 2\n",
    "        median = sorted_numbers[mid]\n",
    "    \n",
    "    return median\n",
    "numbers = [5, 2, 8, 4, 1, 9, 3, 6, 7]\n",
    "median = find_median(numbers)\n",
    "print(\"Median:\", median)"
   ]
  },
  {
   "cell_type": "code",
   "execution_count": 26,
   "id": "b99ec38f",
   "metadata": {},
   "outputs": [
    {
     "name": "stdout",
     "output_type": "stream",
     "text": [
      "[4, 5]\n"
     ]
    }
   ],
   "source": [
    "#17\n",
    "def intersection(list1, list2):  \n",
    "  \n",
    "   temp = set(list2)  \n",
    "   list3 = [value for value in list1 if value in temp]  \n",
    "   return list3  \n",
    "  \n",
    "list1 = [1,2,3,4,5]  \n",
    "list2 = [4,5,6,7,8]  \n",
    "print(intersection(list1, list2))"
   ]
  },
  {
   "cell_type": "code",
   "execution_count": 27,
   "id": "934cd1ff",
   "metadata": {},
   "outputs": [
    {
     "name": "stdout",
     "output_type": "stream",
     "text": [
      "16\n"
     ]
    }
   ],
   "source": [
    "#18\n",
    "def maximumSubarraySum(arr):\n",
    "    n = len(arr)\n",
    "    maxSum = -1e8\n",
    "\n",
    "    for i in range(0, n):\n",
    "        currSum = 0\n",
    "        for j in range(i, n):\n",
    "            currSum = currSum + arr[j]\n",
    "            if(currSum > maxSum):\n",
    "                maxSum = currSum\n",
    "\n",
    "    return maxSum\n",
    "\n",
    "if __name__ == \"__main__\":\n",
    "    a = [1, 3, 8, -2, 6, -8, 5];\n",
    "    print(maximumSubarraySum(a));"
   ]
  },
  {
   "cell_type": "code",
   "execution_count": 29,
   "id": "ccc32611",
   "metadata": {},
   "outputs": [
    {
     "name": "stdout",
     "output_type": "stream",
     "text": [
      "Enter a string: apple\n",
      "String without vowels: ppl\n"
     ]
    }
   ],
   "source": [
    "#19\n",
    "def remove_vowels(string):\n",
    "    vowels = \"aeiouAEIOU\"\n",
    "    result = \"\"\n",
    "    \n",
    "    for char in string:\n",
    "        if char not in vowels:\n",
    "            result += char\n",
    "    \n",
    "    return result\n",
    "\n",
    "input_string = input(\"Enter a string: \")\n",
    "string_without_vowels = remove_vowels(input_string)\n",
    "print(\"String without vowels:\", string_without_vowels)\n"
   ]
  },
  {
   "cell_type": "code",
   "execution_count": 39,
   "id": "c99b103c",
   "metadata": {},
   "outputs": [
    {
     "name": "stdout",
     "output_type": "stream",
     "text": [
      "Enter a sentence: hey how are you?\n",
      "Reversed sentence: you? are how hey\n"
     ]
    }
   ],
   "source": [
    "#20\n",
    "def reverse_sentence(sentence):\n",
    "    words = sentence.split()\n",
    "    reversed_words = words[::-1]\n",
    "    reversed_sentence = ' '.join(reversed_words)\n",
    "    return reversed_sentence\n",
    "\n",
    "input_sentence = input(\"Enter a sentence: \")\n",
    "reversed_sentence = reverse_sentence(input_sentence)\n",
    "print(\"Reversed sentence:\", reversed_sentence)\n"
   ]
  },
  {
   "cell_type": "code",
   "execution_count": 40,
   "id": "fa6b1eda",
   "metadata": {},
   "outputs": [
    {
     "name": "stdout",
     "output_type": "stream",
     "text": [
      "Enter first string :act\n",
      "Enter second string :cat\n",
      "The strings are anagrams.\n"
     ]
    }
   ],
   "source": [
    "#21\n",
    "def check(s1, s2):\n",
    "  \n",
    "  if(sorted(s1)== sorted(s2)):\n",
    "    print(\"The strings are anagrams.\")\n",
    "  else:\n",
    "    print(\"The strings aren't anagrams.\")    \n",
    "    \n",
    "s1 =input(\"Enter first string :\")\n",
    "s2 =input(\"Enter second string :\")\n",
    "check(s1, s2)"
   ]
  },
  {
   "cell_type": "code",
   "execution_count": 41,
   "id": "9df53819",
   "metadata": {},
   "outputs": [
    {
     "name": "stdout",
     "output_type": "stream",
     "text": [
      "Enter a number: 12\n",
      "Prime factors of 12 are: [2, 2, 3]\n"
     ]
    }
   ],
   "source": [
    "#23\n",
    "def find_prime_factors(n):\n",
    "    prime_factors = []\n",
    "    i = 2\n",
    "\n",
    "    while i * i <= n:\n",
    "        if n % i:\n",
    "            i += 1\n",
    "        else:\n",
    "            n //= i\n",
    "            prime_factors.append(i)\n",
    "\n",
    "    if n > 1:\n",
    "        prime_factors.append(n)\n",
    "\n",
    "    return prime_factors\n",
    "number = int(input(\"Enter a number: \"))\n",
    "factors = find_prime_factors(number)\n",
    "print(\"Prime factors of\", number, \"are:\", factors)\n",
    "\n"
   ]
  },
  {
   "cell_type": "code",
   "execution_count": 44,
   "id": "61b2b791",
   "metadata": {},
   "outputs": [
    {
     "name": "stdout",
     "output_type": "stream",
     "text": [
      "True\n",
      "False\n"
     ]
    }
   ],
   "source": [
    "#24\n",
    "def powerof2(n):\n",
    "    # which is a power of 2(2^0)\n",
    "    if n == 1:\n",
    "        return True\n",
    "\n",
    "    elif n % 2 != 0 or n == 0:\n",
    "        return False\n",
    "    return powerof2(n/2)\n",
    " \n",
    "if __name__ == \"__main__\":\n",
    " \n",
    "    print(powerof2(64))  \n",
    "    print(powerof2(12))  \n",
    " "
   ]
  },
  {
   "cell_type": "code",
   "execution_count": 46,
   "id": "6330c8b4",
   "metadata": {},
   "outputs": [
    {
     "name": "stdout",
     "output_type": "stream",
     "text": [
      "Merged and sorted list: [1, 2, 3, 4, 5, 6, 7, 8, 9]\n"
     ]
    }
   ],
   "source": [
    "#25\n",
    "def merge_sorted_lists(list1, list2):\n",
    "    merged_list = []\n",
    "    i, j = 0, 0\n",
    "\n",
    "    while i < len(list1) and j < len(list2):\n",
    "        if list1[i] <= list2[j]:\n",
    "            merged_list.append(list1[i])\n",
    "            i += 1\n",
    "        else:\n",
    "            merged_list.append(list2[j])\n",
    "            j += 1\n",
    "    while i < len(list1):\n",
    "        merged_list.append(list1[i])\n",
    "        i += 1\n",
    "    while j < len(list2):\n",
    "        merged_list.append(list2[j])\n",
    "        j += 1\n",
    "\n",
    "    return merged_list\n",
    "\n",
    "list1 = [1, 4, 7, 9]\n",
    "list2 = [2, 3, 5, 6, 8]\n",
    "merged_list = merge_sorted_lists(list1, list2)\n",
    "print(\"Merged and sorted list:\", merged_list)\n"
   ]
  },
  {
   "cell_type": "code",
   "execution_count": 47,
   "id": "ec20027d",
   "metadata": {},
   "outputs": [
    {
     "name": "stdout",
     "output_type": "stream",
     "text": [
      "The gcd of 60 and 48 is : 12\n"
     ]
    }
   ],
   "source": [
    "#27\n",
    " \n",
    "def hcf(a, b):\n",
    "    if(b == 0):\n",
    "        return a\n",
    "    else:\n",
    "        return hcf(b, a % b)\n",
    " \n",
    "a = 60\n",
    "b = 48\n",
    "\n",
    "print(\"The gcd of 60 and 48 is : \", end=\"\")\n",
    "print(hcf(60, 48))"
   ]
  },
  {
   "cell_type": "code",
   "execution_count": 49,
   "id": "874870cb",
   "metadata": {},
   "outputs": [
    {
     "name": "stdout",
     "output_type": "stream",
     "text": [
      "Enter a number: 25\n",
      "Square root: 5.0\n"
     ]
    }
   ],
   "source": [
    "#28\n",
    "def calculate_square_root(number):\n",
    "    if number < 0:\n",
    "        return \"Invalid input. Square root is not defined for negative numbers.\"\n",
    "    else:\n",
    "        return number ** 0.5\n",
    "\n",
    "input_number = float(input(\"Enter a number: \"))\n",
    "\n",
    "result = calculate_square_root(input_number)\n",
    "print(\"Square root:\", result)\n"
   ]
  },
  {
   "cell_type": "code",
   "execution_count": 50,
   "id": "b1615250",
   "metadata": {},
   "outputs": [
    {
     "name": "stdout",
     "output_type": "stream",
     "text": [
      "Enter the base: 20\n",
      "Enter the exponent: 5\n",
      "Result: 3200000.0\n"
     ]
    }
   ],
   "source": [
    "#32\n",
    "def calculate_power(base, exponent):\n",
    "    if exponent == 0:\n",
    "        return 1\n",
    "    elif exponent < 0:\n",
    "        return 1 / calculate_power(base, -exponent)\n",
    "    else:\n",
    "        return base * calculate_power(base, exponent - 1)\n",
    "\n",
    "base = float(input(\"Enter the base: \"))\n",
    "exponent = int(input(\"Enter the exponent: \"))\n",
    "result = calculate_power(base, exponent)\n",
    "rint(\"Result:\", result)\n"
   ]
  },
  {
   "cell_type": "code",
   "execution_count": 52,
   "id": "acc712c8",
   "metadata": {},
   "outputs": [
    {
     "name": "stdout",
     "output_type": "stream",
     "text": [
      "Enter the Number40\n",
      "40 is not a perfect square\n"
     ]
    }
   ],
   "source": [
    "#35\n",
    "import math\n",
    "\n",
    "number = int(input(\"Enter the Number\"))\n",
    "\n",
    "root = math.sqrt(number)\n",
    "if int(root + 0.5) ** 2 == number:\n",
    "    print(number, \"is a perfect square\")\n",
    "else:\n",
    "    print(number, \"is not a perfect square\")"
   ]
  },
  {
   "cell_type": "code",
   "execution_count": 53,
   "id": "17743145",
   "metadata": {},
   "outputs": [
    {
     "name": "stdout",
     "output_type": "stream",
     "text": [
      "Product of first list:  66\n",
      "Product of second list:  80\n"
     ]
    }
   ],
   "source": [
    "#36\n",
    "def multiplyList(xList) :\n",
    "     \n",
    "    product = 1\n",
    "    for x in xList:\n",
    "         product = product * x\n",
    "    return product\n",
    "     \n",
    "list1 = [11, 3, 2]\n",
    "list2 = [8, 2, 5]\n",
    "\n",
    "print(\"Product of first list: \",multiplyList(list1))\n",
    "print(\"Product of second list: \",multiplyList(list2))"
   ]
  },
  {
   "cell_type": "code",
   "execution_count": 54,
   "id": "1465032b",
   "metadata": {},
   "outputs": [
    {
     "name": "stdout",
     "output_type": "stream",
     "text": [
      "Enter a sentence: hey where were you?\n",
      "Reversed sentence: yeh erehw erew ?uoy\n"
     ]
    }
   ],
   "source": [
    "#37\n",
    "def reverse_sentence_words(sentence):\n",
    "    words = sentence.split()\n",
    "    reversed_words = [word[::-1] for word in words]\n",
    "    reversed_sentence = ' '.join(reversed_words)\n",
    "    return reversed_sentence\n",
    "input_sentence = input(\"Enter a sentence: \")\n",
    "reversed_sentence = reverse_sentence_words(input_sentence)\n",
    "print(\"Reversed sentence:\", reversed_sentence)\n"
   ]
  },
  {
   "cell_type": "code",
   "execution_count": 55,
   "id": "6bb2ab56",
   "metadata": {},
   "outputs": [
    {
     "name": "stdout",
     "output_type": "stream",
     "text": [
      "21\n"
     ]
    }
   ],
   "source": [
    "#39\n",
    "def sumDigits(no):\n",
    "    return 0 if no == 0 else int(no % 10) + sumDigits(int(no/10))\n",
    " \n",
    "if __name__ == \"__main__\":\n",
    " \n",
    "    print(sumDigits(687))\n",
    " "
   ]
  },
  {
   "cell_type": "code",
   "execution_count": 56,
   "id": "48db9162",
   "metadata": {},
   "outputs": [
    {
     "name": "stdout",
     "output_type": "stream",
     "text": [
      "Enter a list of numbers (space-separated): 3 4 -1 1\n",
      "Smallest missing positive integer: 2\n"
     ]
    }
   ],
   "source": [
    "#41\n",
    "def find_smallest_missing_positive(nums):\n",
    "    n = len(nums)\n",
    "\n",
    "    # Step: Segregate positive and non-positive numbers\n",
    "    i = 0\n",
    "    while i < n:\n",
    "        if 1 <= nums[i] <= n and nums[nums[i] - 1] != nums[i]:\n",
    "            nums[nums[i] - 1], nums[i] = nums[i], nums[nums[i] - 1]\n",
    "        else:\n",
    "            i += 1\n",
    "    for i in range(n):\n",
    "        if nums[i] != i + 1:\n",
    "            return i + 1\n",
    "\n",
    "    return n + 1\n",
    "\n",
    "input_nums = input(\"Enter a list of numbers (space-separated): \").split()\n",
    "nums = [int(num) for num in input_nums]\n",
    "\n",
    "smallest_missing_positive = find_smallest_missing_positive(nums)\n",
    "print(\"Smallest missing positive integer:\", smallest_missing_positive)\n"
   ]
  },
  {
   "cell_type": "code",
   "execution_count": 58,
   "id": "49e5d57b",
   "metadata": {},
   "outputs": [
    {
     "name": "stdout",
     "output_type": "stream",
     "text": [
      "Enter a string: ineuron\n",
      "String without duplicates: ineuro\n"
     ]
    }
   ],
   "source": [
    "#45\n",
    "def remove_duplicates(string):\n",
    "    unique_chars = []\n",
    "    result = \"\"\n",
    "\n",
    "    for char in string:\n",
    "        if char not in unique_chars:\n",
    "            unique_chars.append(char)\n",
    "            result += char\n",
    "\n",
    "    return result\n",
    "input_string = input(\"Enter a string: \")\n",
    "string_without_duplicates = remove_duplicates(input_string)\n",
    "print(\"String without duplicates:\", string_without_duplicates)\n",
    "\n",
    "\n",
    " "
   ]
  },
  {
   "cell_type": "code",
   "execution_count": null,
   "id": "982f5268",
   "metadata": {},
   "outputs": [],
   "source": []
  }
 ],
 "metadata": {
  "kernelspec": {
   "display_name": "Python 3 (ipykernel)",
   "language": "python",
   "name": "python3"
  },
  "language_info": {
   "codemirror_mode": {
    "name": "ipython",
    "version": 3
   },
   "file_extension": ".py",
   "mimetype": "text/x-python",
   "name": "python",
   "nbconvert_exporter": "python",
   "pygments_lexer": "ipython3",
   "version": "3.10.9"
  }
 },
 "nbformat": 4,
 "nbformat_minor": 5
}
